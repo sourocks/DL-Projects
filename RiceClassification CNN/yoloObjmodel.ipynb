{
  "nbformat": 4,
  "nbformat_minor": 0,
  "metadata": {
    "colab": {
      "provenance": []
    },
    "kernelspec": {
      "name": "python3",
      "display_name": "Python 3"
    },
    "language_info": {
      "name": "python"
    },
    "accelerator": "GPU",
    "gpuClass": "standard"
  },
  "cells": [
    {
      "cell_type": "code",
      "source": [
        "#!nvidia-smi"
      ],
      "metadata": {
        "id": "xkuj38I397JX"
      },
      "execution_count": null,
      "outputs": []
    },
    {
      "cell_type": "code",
      "source": [
        "#!lscpu"
      ],
      "metadata": {
        "id": "G_lJb0KQ99Z0"
      },
      "execution_count": null,
      "outputs": []
    },
    {
      "cell_type": "code",
      "execution_count": null,
      "metadata": {
        "colab": {
          "base_uri": "https://localhost:8080/"
        },
        "id": "LEobLeWj6sJW",
        "outputId": "2431cffc-e408-4afe-ba80-7d6db8bbd36a"
      },
      "outputs": [
        {
          "output_type": "stream",
          "name": "stdout",
          "text": [
            "Drive already mounted at /content/drive/; to attempt to forcibly remount, call drive.mount(\"/content/drive/\", force_remount=True).\n"
          ]
        }
      ],
      "source": [
        "#Mounting google drive\n",
        "from google.colab import drive\n",
        "drive.mount('/content/drive/')"
      ]
    },
    {
      "cell_type": "code",
      "source": [
        "!ls \"/content/drive/MyDrive/yolomodel\""
      ],
      "metadata": {
        "colab": {
          "base_uri": "https://localhost:8080/"
        },
        "id": "yO3bWNZh61oH",
        "outputId": "eb65a4de-ae03-4c77-ddcc-d22c2e0d8cd9"
      },
      "execution_count": null,
      "outputs": [
        {
          "output_type": "stream",
          "name": "stdout",
          "text": [
            "backup\t\t\t custom_data-20230217T071902Z-001.zip\n",
            "bad.list\t\t custom_weight\n",
            "chart.png\t\t darknet\n",
            "chart_yolov3_custom.png  mask_test_images\n",
            "custom_data\t\t yoloObjmodel.ipynb\n"
          ]
        }
      ]
    },
    {
      "cell_type": "code",
      "source": [
        "#!unzip '/content/drive/MyDrive/yolomodel/custom_data-20230217T071902Z-001.zip' -d '/content/drive/MyDrive/yolomodel/'"
      ],
      "metadata": {
        "id": "qI4-Bg-161qc"
      },
      "execution_count": null,
      "outputs": []
    },
    {
      "cell_type": "code",
      "source": [
        "#!git clone 'https://github.com/AlexeyAB/darknet.git' '/content/drive/MyDrive/yolomodel/darknet'"
      ],
      "metadata": {
        "id": "WQEpn8yO61tX"
      },
      "execution_count": null,
      "outputs": []
    },
    {
      "cell_type": "code",
      "source": [
        "%cd /content/drive/MyDrive/yolomodel/darknet"
      ],
      "metadata": {
        "colab": {
          "base_uri": "https://localhost:8080/"
        },
        "id": "XFVbahf061wj",
        "outputId": "faa2532a-b698-4293-91f8-bac0bf07363b"
      },
      "execution_count": null,
      "outputs": [
        {
          "output_type": "stream",
          "name": "stdout",
          "text": [
            "/content/drive/MyDrive/yolomodel/darknet\n"
          ]
        }
      ]
    },
    {
      "cell_type": "code",
      "source": [
        "!ls"
      ],
      "metadata": {
        "colab": {
          "base_uri": "https://localhost:8080/"
        },
        "id": "EVrTrZo061zi",
        "outputId": "24a4da62-8555-46e8-db29-5686f376cde3"
      },
      "execution_count": null,
      "outputs": [
        {
          "output_type": "stream",
          "name": "stdout",
          "text": [
            "3rdparty\tDarknetConfig.cmake.in\tjson_mjpeg_streams.sh  scripts\n",
            "backup\t\tdarknet_images.py\tLICENSE\t\t       src\n",
            "build\t\tdarknet.py\t\tMakefile\t       vcpkg.json\n",
            "build.ps1\tdarknet_video.py\tnet_cam_v3.sh\t       video_yolov3.sh\n",
            "cfg\t\tdata\t\t\tnet_cam_v4.sh\t       video_yolov4.sh\n",
            "cmake\t\timage_yolov3.sh\t\tobj\n",
            "CMakeLists.txt\timage_yolov4.sh\t\tREADME.md\n",
            "darknet\t\tinclude\t\t\tresults\n"
          ]
        }
      ]
    },
    {
      "cell_type": "code",
      "source": [
        "!make"
      ],
      "metadata": {
        "id": "SSVuI0Ih6127",
        "outputId": "1ddf3189-ef86-48f9-f92c-5ac432508fe7",
        "colab": {
          "base_uri": "https://localhost:8080/"
        }
      },
      "execution_count": null,
      "outputs": [
        {
          "output_type": "stream",
          "name": "stdout",
          "text": [
            "chmod +x *.sh\n"
          ]
        }
      ]
    },
    {
      "cell_type": "code",
      "source": [
        "%cd /content/drive/MyDrive/yolomodel"
      ],
      "metadata": {
        "colab": {
          "base_uri": "https://localhost:8080/"
        },
        "id": "YglINONK616J",
        "outputId": "53a7b5ec-5fd8-43bc-94e1-0b49e0f88ddd"
      },
      "execution_count": null,
      "outputs": [
        {
          "output_type": "stream",
          "name": "stdout",
          "text": [
            "/content/drive/MyDrive/yolomodel\n"
          ]
        }
      ]
    },
    {
      "cell_type": "code",
      "source": [
        "!python custom_data/creating-files-data-and-name.py"
      ],
      "metadata": {
        "id": "JX0KiEL_6180"
      },
      "execution_count": null,
      "outputs": []
    },
    {
      "cell_type": "code",
      "source": [
        "!python custom_data/creating-train-and-test-txt-files.py"
      ],
      "metadata": {
        "id": "7QEh3KnQCk3S"
      },
      "execution_count": null,
      "outputs": []
    },
    {
      "cell_type": "code",
      "source": [
        "\n",
        "#!darknet/darknet detector train custom_data/labelled_data.data darknet/cfg/yolov3_custom.cfg custom_weight/darknet53.conv.74 -dont_show"
      ],
      "metadata": {
        "id": "WuzIa4If62AI"
      },
      "execution_count": null,
      "outputs": []
    },
    {
      "cell_type": "code",
      "source": [
        "\n",
        "%cd /content/drive/MyDrive/yolomodel/darknet"
      ],
      "metadata": {
        "colab": {
          "base_uri": "https://localhost:8080/"
        },
        "id": "YRV6Veh9ZPoc",
        "outputId": "56369008-3934-47e4-c4df-d1b7944ccd5a"
      },
      "execution_count": null,
      "outputs": [
        {
          "output_type": "stream",
          "name": "stdout",
          "text": [
            "/content/drive/MyDrive/yolomodel/darknet\n"
          ]
        }
      ]
    },
    {
      "cell_type": "code",
      "source": [
        "%cd cfg\n",
        "!sed -i 's/batch=2/batch=1/' yolov3_custom.cfg\n",
        "!sed -i 's/subdivisions=8/subdivisions=1/' yolov3_custom.cfg\n",
        "%cd .."
      ],
      "metadata": {
        "colab": {
          "base_uri": "https://localhost:8080/"
        },
        "id": "1b7Ugktn62EO",
        "outputId": "f731ded6-5011-459c-f350-eef94f8adcaa"
      },
      "execution_count": null,
      "outputs": [
        {
          "output_type": "stream",
          "name": "stdout",
          "text": [
            "/content/drive/MyDrive/yolomodel/darknet/cfg\n",
            "/content/drive/MyDrive/yolomodel/darknet\n"
          ]
        }
      ]
    },
    {
      "cell_type": "code",
      "source": [
        "%cd /content/drive/MyDrive/yolomodel/darknet"
      ],
      "metadata": {
        "colab": {
          "base_uri": "https://localhost:8080/"
        },
        "id": "OdzlxeRDerDa",
        "outputId": "a8f97356-6bfc-4b1c-d7a1-4c63f6205996"
      },
      "execution_count": null,
      "outputs": [
        {
          "output_type": "stream",
          "name": "stdout",
          "text": [
            "/content/drive/MyDrive/yolomodel/darknet\n"
          ]
        }
      ]
    },
    {
      "cell_type": "code",
      "source": [
        "import cv2\n",
        "import matplotlib.pyplot as plt\n",
        "%matplotlib inline"
      ],
      "metadata": {
        "id": "lnEPUxC_s_QM"
      },
      "execution_count": null,
      "outputs": []
    },
    {
      "cell_type": "code",
      "source": [
        "pwd"
      ],
      "metadata": {
        "colab": {
          "base_uri": "https://localhost:8080/",
          "height": 35
        },
        "id": "uEgN0Ikus_Mm",
        "outputId": "c2348e14-5a1c-4820-91a7-731d8b58a611"
      },
      "execution_count": null,
      "outputs": [
        {
          "output_type": "execute_result",
          "data": {
            "text/plain": [
              "'/content/drive/MyDrive/yolomodel/darknet'"
            ],
            "application/vnd.google.colaboratory.intrinsic+json": {
              "type": "string"
            }
          },
          "metadata": {},
          "execution_count": 30
        }
      ]
    },
    {
      "cell_type": "code",
      "source": [
        "!./darknet"
      ],
      "metadata": {
        "colab": {
          "base_uri": "https://localhost:8080/"
        },
        "id": "hPIQ3Mifs_KN",
        "outputId": "60797a94-00b3-4a03-d703-96849db523af"
      },
      "execution_count": null,
      "outputs": [
        {
          "output_type": "stream",
          "name": "stdout",
          "text": [
            "/bin/bash: ./darknet: Permission denied\n"
          ]
        }
      ]
    },
    {
      "cell_type": "code",
      "source": [
        "!darknet/darknet detector test custom_data/labelled_data.data cfg/yolov3_custom.cfg backup/yolov3_custom_last.weights MyDrive/yolomodel/mask_test_images/img115.jpeg -thresh 0.3"
      ],
      "metadata": {
        "colab": {
          "base_uri": "https://localhost:8080/"
        },
        "id": "kbyiAi8FeU5z",
        "outputId": "e728c01f-d3c3-4b4b-b0a2-bdd57a8a04cb"
      },
      "execution_count": null,
      "outputs": [
        {
          "output_type": "stream",
          "name": "stdout",
          "text": [
            "/bin/bash: darknet/darknet: Not a directory\n"
          ]
        }
      ]
    },
    {
      "cell_type": "code",
      "source": [
        "# define helper functions\n",
        "def imShow(path):\n",
        "  import cv2\n",
        "  import matplotlib.pyplot as plt\n",
        "  %matplotlib inline\n",
        "\n",
        "  image = cv2.imread(path)\n",
        "  height, width = image.shape[:2]\n",
        "  resized_image = cv2.resize(image,(3*width, 3*height), interpolation = cv2.INTER_CUBIC)\n",
        "\n",
        "  fig = plt.gcf()\n",
        "  fig.set_size_inches(18, 10)\n",
        "  plt.axis(\"off\")\n",
        "  plt.imshow(cv2.cvtColor(resized_image, cv2.COLOR_BGR2RGB))\n",
        "  plt.show()\n",
        "\n",
        "# use this to upload files\n",
        "def upload():\n",
        "  from google.colab import files\n",
        "  uploaded = files.upload() \n",
        "  for name, data in uploaded.items():\n",
        "    with open(name, 'wb') as f:\n",
        "      f.write(data)\n",
        "      print ('saved file', name)\n",
        "\n",
        "# use this to download a file  \n",
        "def download(path):\n",
        "  from google.colab import files\n",
        "  files.download(path)"
      ],
      "metadata": {
        "id": "8Sh4s_OzkXMZ"
      },
      "execution_count": null,
      "outputs": []
    },
    {
      "cell_type": "code",
      "source": [
        "#can check the performance of all the trained weights by looking at the chart.png file. However, the chart.png file only shows results if the training does not get interrupted i.e. if you do not get disconnected or lose your session. If you restart training from a saved point, this will not work.\n",
        "\n",
        "imShow('chart.png')"
      ],
      "metadata": {
        "id": "9yCDYmjfPCtL"
      },
      "execution_count": null,
      "outputs": []
    },
    {
      "cell_type": "code",
      "source": [
        "!./darknet detector test data/labelled_data.data cfg/yolov3-custom.cfg /mydrive/yolomodel/backup/yolov3_custom_best.weights /mydrive/yolomodel/test.jpg -thresh 0.3\n",
        "imShow('predictions.jpg')"
      ],
      "metadata": {
        "id": "fjIeLerFPJKS"
      },
      "execution_count": null,
      "outputs": []
    }
  ]
}